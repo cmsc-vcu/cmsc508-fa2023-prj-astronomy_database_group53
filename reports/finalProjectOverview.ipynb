{
  "cells": [
    {
      "cell_type": "raw",
      "metadata": {},
      "source": [
        "---\n",
        "title-block-banner: cropped.jpg\n",
        "title: Astronomy Database \n",
        "date: November 23, 2023\n",
        "authors: 🌟 Uma Manicka & Celeste Olmstead 🌟\n",
        "format:\n",
        "    html:\n",
        "        theme: cyborg\n",
        "        toc: true\n",
        "        embed-resources: true\n",
        "        code-copy: true\n",
        "        linkcolor: pink\n",
        "---"
      ],
      "id": "a28c3706"
    },
    {
      "cell_type": "markdown",
      "metadata": {},
      "source": [
        "# 🪐Project Overview🪐 \n",
        "\n",
        "\n",
        "See:\n",
        "\n",
        "* [GITHUB REPO](https://github.com/cmsc-vcu/cmsc508-fa2023-prj-astronomy_database_group53)\n",
        "* [PITCH VIDEO](https://clipchamp.com/watch/5yb3Z2ORm1g?utm_source=share&utm_medium=social&utm_campaign=watch)\n",
        "* [DESIGN VIDEO](https://vcu.mediaspace.kaltura.com/media/video1242889568/1_u95qqk0j)\n",
        "\n",
        "\n",
        "### Problem Description\n",
        "\n",
        "<span style=\"color:#a074c1;\">Problem Domain</span>\n",
        "\n",
        ": Astronomy, a captivating blend of science and human curiosity, explores the vast expanse of celestial objects, the mysteries of space, and the entirety of our physical universe. This field of study has a rich and storied history that dates back to the earliest civilizations, reflecting our innate desire to comprehend the world that surrounds us.\n",
        "\n",
        ": In the 3rd century BCE, Greek astronomers like Galileo Galilei introduced groundbreaking methods that substantiated the heliocentric model, reshaping our understanding of the universe. \n",
        "\n",
        "\n",
        "<span style=\"color:#a074c1;\">Need</span>\n",
        "\n",
        ": Everything in the sky is constantly moving, and, for those who are interested in astronomy, a tool to look up locations of celestial objects would be useful. Centralizing lots of the information already available into a user-friendly database could make astronomy more accessible, and hobbies which connect you to your surroundings as well as build community are great for your mental health.\n",
        "\n",
        "<span style=\"color:#a074c1;\">Context, Scope, and Perspective</span>\n",
        "\n",
        ": This database could be helpful for more than just avid astronomers. For them, we want to give information about where stars, planets, and constellations can be seen in telescopes. For more casual fans, we want to include information about events that can be seen with the naked eye - blue moons, eclipses, meteor showers, etc. Giving information on when and where they’re next predicted to happen could be useful for anyone who likes to stargaze.\n",
        "\n",
        "<span style=\"color:#a074c1;\">User roles and Use Cases</span>\n",
        "\n",
        ": Amateur Astronomers and Stargazers:\n",
        "\n",
        "* Usage: They use the database to plan a stargazing session, locate celestial objects, and gain insights into upcoming astronomical events.\n",
        "\n",
        "* Use Case: Users can find information on upcoming celestial events, visible planets, stars, and constellations in the night sky. The database provides real-time information to plan stargazing sessions.\n",
        "\n",
        "<span style=\"color:#a074c1;\">Security and Privacy</span>\n",
        "\n",
        ": Access Controls\n",
        "\n",
        "* Unauthorized users should not be able to access or manipulate the database.\n",
        "\n",
        ": Data Encryption\n",
        "\n",
        "* Data transmitted over the network, especially sensitive user information such as a user's query (in case it has their location), should not be accessible by other users.\n",
        "\n",
        ": User Authentication\n",
        "\n",
        "* We do not have a user authentication as our database will not store user's data or information. It will be purely for querying. However, we have an access security mechanism for our API.\n",
        "\n",
        "### Database Design\n",
        "\n",
        "<span style=\"color:#a074c1;\">Design Tradeoffs</span>\n",
        "\n",
        "* We removed an idea for an astrology extension to the database. We planned for the user to input their birthdate and be able to receive information on their sun sign, any planet movements affecting their sign, and other astrology considerations. However, this would've added much more complexity to our database. So, we decided to remove this functionality.\n",
        "\n",
        "* We also were thinking of having the user input their location, and, in return, they'd receive instructions on how to best view a celestial body or event. This would include things like the angle and direction they must look in. We did not do this.\n",
        "\n",
        "* One more design consideration is handling Location and time. Currently, there are two different tables for coordinates and longitude and latitude coordinates. There's also Altitude and Azimuth coordinates, which, given two set of longitude and latitude and the time, or celestial coordinates and the time, you're able to get the angle and direction you'd have to look to see a celestial body/event. \n",
        "\n",
        "Below is an abstract design of the database:\n",
        "\n",
        "```{mermaid}\n",
        "%%{init: {'theme':'dark'}}%%\n",
        "erDiagram\n",
        "    OBJECT }o--o{ EVENT : causes\n",
        "    OBJECT }o--o{ OBJECT : linked_to\n",
        "    OBSERVER }|--|{ OBJECT : discovers\n",
        "    OBSERVER }|--|{ EVENT : discovers\n",
        "    OBJECT }|--|{ EARTHLOCATION : viewed_from\n",
        "    OBJECT }|--|{ SPACELOCATION : has\n",
        "    EVENT }|--|{ EARTHLOCATION : viewed_from\n",
        "```\n",
        "\n",
        "\n",
        "\n",
        "<span style=\"color:#a074c1;\"> Objects and Events</span>\n",
        "\n",
        "* Our idea is that celestial objects can cause events, although events don't always have to be directly caused by a celestial object or may have a cause we are unsure of. Many objects can cause an event, but some do not. \n",
        "\n",
        "<span style=\"color:#a074c1;\">Location</span>\n",
        "\n",
        "* Both events and ojects have locations that they can be seen from Earth. Events and objects can be seen sometimes only in certain hemispheres or regions (like Aurora Borealis). This allows the user to query the database with questions like: What location has the most meteor showers? This requires splitting the Earth into certain zones, so, when coordinates are inputted, they are classified into a certain zone.\n",
        "\n",
        "<span style=\"color:#a074c1;\">Observers</span>\n",
        "\n",
        "* We also have observers, where an event or object can have multiple, but an observer must discover at least one to be in the database. This way, users can query with questions like: When was the last discovery about Jupiter made? This would also require celestial objects to have other objects linked to them, such as Earth is linked to the moon.\n",
        "\n",
        "\n",
        "### Our Tables - BCNF Showcase\n",
        "\n",
        "* (you can tab through them)\n",
        "* All these tables are in BCNF because their candidate keys determine all other attributes, and there are no partial dependencies.\n"
      ],
      "id": "f7f44848"
    },
    {
      "cell_type": "code",
      "metadata": {},
      "source": [
        "#| eval: true\n",
        "#| echo: false\n",
        "import os\n",
        "import sys\n",
        "import pandas as pd\n",
        "from tabulate import tabulate\n",
        "from dotenv import load_dotenv\n",
        "from sqlalchemy import create_engine, text\n",
        "from sqlalchemy.exc import OperationalError, ProgrammingError\n",
        "import requests\n",
        "from flask import Flask\n",
        "import json\n",
        "from IPython.display import display, Markdown, HTML\n",
        "\n",
        "app = Flask(__name__)\n",
        "header = {'Authorization' :'Bearer super-secret'}"
      ],
      "id": "46f476be",
      "execution_count": null,
      "outputs": []
    },
    {
      "cell_type": "code",
      "metadata": {},
      "source": [
        "#| eval: true\n",
        "#| echo: false\n",
        "\n",
        "# modify config_map to reflect credentials needed by this program\n",
        "config_map = {\n",
        "    'user':'CMSC508_USER',\n",
        "    'password':'CMSC508_PASSWORD',\n",
        "    'host':'CMSC508_HOST',\n",
        "    'database':'ASTRONOMY_DB_NAME'\n",
        "}\n",
        "# load and store credentials\n",
        "load_dotenv()\n",
        "config = {}\n",
        "for key in config_map.keys():\n",
        "    config[key] = os.getenv(config_map[key])\n",
        "flag = False\n",
        "for param in config.keys():\n",
        "    if config[param] is None:\n",
        "        flag = True\n",
        "        print(f\"Missing {config_map[param]} in .env file\")\n",
        "#if flag:\n",
        "#    sys.exit(1)"
      ],
      "id": "cff4a4ac",
      "execution_count": null,
      "outputs": []
    },
    {
      "cell_type": "code",
      "metadata": {},
      "source": [
        "#| eval: true\n",
        "#| echo: false\n",
        "\n",
        "# build a sqlalchemy engine string\n",
        "engine_uri = f\"mysql+pymysql://{config['user']}:{config['password']}@{config['host']}/{config['database']}\"\n",
        "\n",
        "# create a database connection.  THIS IS THE ACTUAL CONNECTION!\n",
        "try:\n",
        "    cnx = create_engine(engine_uri)\n",
        "except ArgumentError as e:\n",
        "    print(f\"create_engine: Argument Error: {e}\")\n",
        "    #sys.exit(1)\n",
        "except NoSuchModuleError as e:\n",
        "    print(f\"create_engine: No Such Module Error: {e}\")\n",
        "    #sys.exit(1)\n",
        "except Exception as e:\n",
        "    print(f\"create_engine: An error occurred: {e}\")\n",
        "    #sys.exit(1)"
      ],
      "id": "2a0ecd59",
      "execution_count": null,
      "outputs": []
    },
    {
      "cell_type": "code",
      "metadata": {},
      "source": [
        "#| echo: false\n",
        "#| eval: true\n",
        "\n",
        "# Do a quick test of the connection and trap the errors better!\n",
        "try:\n",
        "    databases = pd.read_sql(\"show databases\",cnx)\n",
        "except ImportError as e:\n",
        "    print(f\"Error: {e}\")\n",
        "except OperationalError as e:\n",
        "    print(f\"Database/SQL Error:\\n{str(e)}\\n\")\n",
        "except ProgrammingError as e:\n",
        "    print(f\"Programming Error:\\n{str(e)}\\n\")\n",
        "except Exception as e:\n",
        "    print(f\"An error occurred:\\n{str(e)}\\n\")"
      ],
      "id": "52a6a445",
      "execution_count": null,
      "outputs": []
    },
    {
      "cell_type": "markdown",
      "metadata": {},
      "source": [
        "::: {.panel-tabset}\n",
        "\n",
        "## Objects\n",
        "\n",
        "**$R_{0}$**, objects, has functional dependency\n",
        "\n",
        "* object_id $\\rightarrow$ object_name, type, description"
      ],
      "id": "9e4e07fe"
    },
    {
      "cell_type": "code",
      "metadata": {},
      "source": [
        "#| echo: false\n",
        "#| eval: true\n",
        "sql = f\"\"\"\n",
        "select * from objects;\n",
        "\"\"\"\n",
        "## Add code to list roles table here\n",
        "try:\n",
        "    df = pd.read_sql(sql,cnx)\n",
        "    df\n",
        "except Exception as e:\n",
        "    message = str(e)\n",
        "    print(f\"An error occurred:\\n\\n{message}\\n\\nIgnoring and moving on.\")\n",
        "    df = pd.DataFrame()\n",
        "df"
      ],
      "id": "a91e2f77",
      "execution_count": null,
      "outputs": []
    },
    {
      "cell_type": "markdown",
      "metadata": {},
      "source": [
        "## Event\n",
        "**$R_{1}$**, events, has functional dependencies\n",
        "\n",
        "* event_id $\\rightarrow$ event_name, date_occurred, duration, frequency"
      ],
      "id": "f9104f8e"
    },
    {
      "cell_type": "code",
      "metadata": {},
      "source": [
        "#| echo: false\n",
        "#| eval: true\n",
        "sql = f\"\"\"\n",
        "select * from events;\n",
        "\"\"\"\n",
        "## Add code to list roles table here\n",
        "try:\n",
        "    df = pd.read_sql(sql,cnx)\n",
        "    df\n",
        "except Exception as e:\n",
        "    message = str(e)\n",
        "    print(f\"An error occurred:\\n\\n{message}\\n\\nIgnoring and moving on.\")\n",
        "    df = pd.DataFrame()\n",
        "df"
      ],
      "id": "6ea2a010",
      "execution_count": null,
      "outputs": []
    },
    {
      "cell_type": "markdown",
      "metadata": {},
      "source": [
        "## Observer\n",
        "**$R_{3}$**, observers, has functional dependency\n",
        "\n",
        "* observer_id $\\rightarrow$ first_name, last_name"
      ],
      "id": "2439239e"
    },
    {
      "cell_type": "code",
      "metadata": {},
      "source": [
        "#| echo: false\n",
        "#| eval: true\n",
        "sql = f\"\"\"\n",
        "select * from observers;\n",
        "\"\"\"\n",
        "## Add code to list roles table here\n",
        "try:\n",
        "    df = pd.read_sql(sql,cnx)\n",
        "    df\n",
        "except Exception as e:\n",
        "    message = str(e)\n",
        "    print(f\"An error occurred:\\n\\n{message}\\n\\nIgnoring and moving on.\")\n",
        "    df = pd.DataFrame()\n",
        "df"
      ],
      "id": "bf4a5d19",
      "execution_count": null,
      "outputs": []
    },
    {
      "cell_type": "markdown",
      "metadata": {},
      "source": [
        "## Earth Location\n",
        "**$R_{4}$**, earth_locations, has functional dependencies\n",
        "\n",
        "* earth_location_id $\\rightarrow$ quadrant, latitude, longitude, timezone, local_time, description"
      ],
      "id": "2cf9ce63"
    },
    {
      "cell_type": "code",
      "metadata": {},
      "source": [
        "#| echo: false\n",
        "#| eval: true\n",
        "sql = f\"\"\"\n",
        "select * from earth_locations;\n",
        "\"\"\"\n",
        "## Add code to list roles table here\n",
        "try:\n",
        "    df = pd.read_sql(sql,cnx)\n",
        "    df\n",
        "except Exception as e:\n",
        "    message = str(e)\n",
        "    print(f\"An error occurred:\\n\\n{message}\\n\\nIgnoring and moving on.\")\n",
        "    df = pd.DataFrame()\n",
        "df"
      ],
      "id": "498fb4eb",
      "execution_count": null,
      "outputs": []
    },
    {
      "cell_type": "markdown",
      "metadata": {},
      "source": [
        "## Space Locations\n",
        "**$R_{4}$**, space_locations, has functional dependency\n",
        "\n",
        "* space_location_id $\\rightarrow$ ra, de, description"
      ],
      "id": "9ab7de5a"
    },
    {
      "cell_type": "code",
      "metadata": {},
      "source": [
        "#| echo: false\n",
        "#| eval: true\n",
        "sql = f\"\"\"\n",
        "select * from space_locations;\n",
        "\"\"\"\n",
        "## Add code to list roles table here\n",
        "try:\n",
        "    df = pd.read_sql(sql,cnx)\n",
        "    df\n",
        "except Exception as e:\n",
        "    message = str(e)\n",
        "    print(f\"An error occurred:\\n\\n{message}\\n\\nIgnoring and moving on.\")\n",
        "    df = pd.DataFrame()\n",
        "df"
      ],
      "id": "44f44f73",
      "execution_count": null,
      "outputs": []
    },
    {
      "cell_type": "markdown",
      "metadata": {},
      "source": [
        ":::\n",
        "\n",
        "### Our Associative Tables\n",
        "\n",
        "::: {.panel-tabset}\n",
        "## Object-Event\n",
        "* Containing the event_id, the object_id, and the date. One event_id can be related to multiple object_id's, but does not need to be related to any.\n",
        "\n",
        "- Candidate Key: `{object_id, event_id}`\n",
        "- Functional Dependency: `object_id, event_id → date`"
      ],
      "id": "89d540dd"
    },
    {
      "cell_type": "code",
      "metadata": {},
      "source": [
        "#| echo: false\n",
        "#| eval: true\n",
        "sql = f\"\"\"\n",
        "select * from object_event;\n",
        "\"\"\"\n",
        "## Add code to list roles table here\n",
        "try:\n",
        "    df = pd.read_sql(sql,cnx)\n",
        "    df\n",
        "except Exception as e:\n",
        "    message = str(e)\n",
        "    print(f\"An error occurred:\\n\\n{message}\\n\\nIgnoring and moving on.\")\n",
        "    df = pd.DataFrame()\n",
        "df"
      ],
      "id": "c1407f82",
      "execution_count": null,
      "outputs": []
    },
    {
      "cell_type": "markdown",
      "metadata": {},
      "source": [
        "## Object-Location\n",
        "* Containing the object_id, the location_id. Some objects can be seen from multiple locations. Not all objects can be viewed from the same location at two different times.\n",
        "\n",
        "- Candidate Key: `{object_id, location_id}`\n",
        "- Functional Dependency: `object_id, location_id → date`"
      ],
      "id": "45a8668e"
    },
    {
      "cell_type": "code",
      "metadata": {},
      "source": [
        "#| echo: false\n",
        "#| eval: true\n",
        "sql = f\"\"\"\n",
        "select * from object_location;\n",
        "\"\"\"\n",
        "## Add code to list roles table here\n",
        "try:\n",
        "    df = pd.read_sql(sql,cnx)\n",
        "    df\n",
        "except Exception as e:\n",
        "    message = str(e)\n",
        "    print(f\"An error occurred:\\n\\n{message}\\n\\nIgnoring and moving on.\")\n",
        "    df = pd.DataFrame()\n",
        "df"
      ],
      "id": "21df9350",
      "execution_count": null,
      "outputs": []
    },
    {
      "cell_type": "markdown",
      "metadata": {},
      "source": [
        "## Object-Space Location\n",
        "* Containing the space_location_id, object_id. The object has to have at least one location in space.\n",
        "\n",
        "- Candidate Key: `{object_id, cel_location_id}`\n",
        "- Functional Dependency: `object_id, cel_location_id → date`"
      ],
      "id": "efbbd3fa"
    },
    {
      "cell_type": "code",
      "metadata": {},
      "source": [
        "#| echo: false\n",
        "#| eval: true\n",
        "sql = f\"\"\"\n",
        "select * from object_space_location;\n",
        "\"\"\"\n",
        "## Add code to list roles table here\n",
        "try:\n",
        "    df = pd.read_sql(sql,cnx)\n",
        "    df\n",
        "except Exception as e:\n",
        "    message = str(e)\n",
        "    print(f\"An error occurred:\\n\\n{message}\\n\\nIgnoring and moving on.\")\n",
        "    df = pd.DataFrame()\n",
        "df"
      ],
      "id": "5298adf6",
      "execution_count": null,
      "outputs": []
    },
    {
      "cell_type": "markdown",
      "metadata": {},
      "source": [
        "## Object-Object\n",
        "* Contains 2 object_id's. Used for cases like planets with moons, planetary conjunctions. One object can have 0 or more objects related to it.\n",
        "\n",
        "- Candidate Key: `{object_id, related_object_id}`\n",
        "- Functional Dependency: `object1_id, object2_id → date`"
      ],
      "id": "6272d91a"
    },
    {
      "cell_type": "code",
      "metadata": {},
      "source": [
        "#| echo: false\n",
        "#| eval: true\n",
        "sql = f\"\"\"\n",
        "select * from object_object;\n",
        "\"\"\"\n",
        "## Add code to list roles table here\n",
        "try:\n",
        "    df = pd.read_sql(sql,cnx)\n",
        "    df\n",
        "except Exception as e:\n",
        "    message = str(e)\n",
        "    print(f\"An error occurred:\\n\\n{message}\\n\\nIgnoring and moving on.\")\n",
        "    df = pd.DataFrame()\n",
        "df"
      ],
      "id": "ba6ba306",
      "execution_count": null,
      "outputs": []
    },
    {
      "cell_type": "markdown",
      "metadata": {},
      "source": [
        "## Event-Location\n",
        "* Containing the event_id, the location_id, and the date. Some events can be seen from multiple locations. Not all events can be viewed from the same location at two different times, so date is important.\n",
        "\n",
        "- Candidate Key: `{event_id, location_id}`\n",
        "- Functional Dependency: `event_id, location_id → date`"
      ],
      "id": "b13fe358"
    },
    {
      "cell_type": "code",
      "metadata": {},
      "source": [
        "#| echo: false\n",
        "#| eval: true\n",
        "sql = f\"\"\"\n",
        "select * from event_location;\n",
        "\"\"\"\n",
        "## Add code to list roles table here\n",
        "try:\n",
        "    df = pd.read_sql(sql,cnx)\n",
        "    df\n",
        "except Exception as e:\n",
        "    message = str(e)\n",
        "    print(f\"An error occurred:\\n\\n{message}\\n\\nIgnoring and moving on.\")\n",
        "    df = pd.DataFrame()\n",
        "df"
      ],
      "id": "c4e7f1b2",
      "execution_count": null,
      "outputs": []
    },
    {
      "cell_type": "markdown",
      "metadata": {},
      "source": [
        "## Observer-Event\n",
        "* Contains the observer_id, the event_id, and date. An observer must discover at least one event, and can discover multiple.\n",
        "\n",
        "- Candidate Key: `{observer_id, event_id}`\n",
        "- Functional Dependency: `observer_id, event_id → date`\n"
      ],
      "id": "2d75ec1f"
    },
    {
      "cell_type": "code",
      "metadata": {},
      "source": [
        "#| echo: false\n",
        "#| eval: true\n",
        "sql = f\"\"\"\n",
        "select * from observer_event;\n",
        "\"\"\"\n",
        "## Add code to list roles table here\n",
        "try:\n",
        "    df = pd.read_sql(sql,cnx)\n",
        "    df\n",
        "except Exception as e:\n",
        "    message = str(e)\n",
        "    print(f\"An error occurred:\\n\\n{message}\\n\\nIgnoring and moving on.\")\n",
        "    df = pd.DataFrame()\n",
        "df"
      ],
      "id": "dac4b088",
      "execution_count": null,
      "outputs": []
    },
    {
      "cell_type": "markdown",
      "metadata": {},
      "source": [
        "## Observer-Object\n",
        "* Contains the observer_id and the object_id. An observer must discover at least one object, and can discover multiple.\n",
        "\n",
        "- Candidate Key: `{observer_id, object_id}`\n",
        "- Functional Dependency: `observer_id, object_id → date`"
      ],
      "id": "3d48c27d"
    },
    {
      "cell_type": "code",
      "metadata": {},
      "source": [
        "#| echo: false\n",
        "#| eval: true\n",
        "sql = f\"\"\"\n",
        "select * from observer_object;\n",
        "\"\"\"\n",
        "## Add code to list roles table here\n",
        "try:\n",
        "    df = pd.read_sql(sql,cnx)\n",
        "    df\n",
        "except Exception as e:\n",
        "    message = str(e)\n",
        "    print(f\"An error occurred:\\n\\n{message}\\n\\nIgnoring and moving on.\")\n",
        "    df = pd.DataFrame()\n",
        "df"
      ],
      "id": "3937b002",
      "execution_count": null,
      "outputs": []
    },
    {
      "cell_type": "markdown",
      "metadata": {},
      "source": [
        "::: \n",
        "\n",
        "### Queries\n",
        "\n",
        "::: {.panel-tabset}\n",
        "\n",
        "## 1\n",
        "1. **Retrieve names and descriptions of objects visible from a specific location.**\n",
        "\n",
        "   * $\\pi_{object\\_name, description}(\\sigma_{location\\_id = X}(Object-Location))$\n"
      ],
      "id": "a6e6f53b"
    },
    {
      "cell_type": "code",
      "metadata": {},
      "source": [
        "sql = f\"\"\"\n",
        "     SELECT \n",
        "        object_name,\n",
        "        c.location_name\n",
        "    FROM\n",
        "        object_location a\n",
        "        INNER JOIN objects b on (a.object_id = b.object_id)\n",
        "        INNER JOIN earth_locations c on (a.location_id = c.earth_location_id)\n",
        "    WHERE location_id = 2\n",
        "    ;\n",
        "\"\"\""
      ],
      "id": "ac25da88",
      "execution_count": null,
      "outputs": []
    },
    {
      "cell_type": "code",
      "metadata": {},
      "source": [
        "#| echo: false\n",
        "#| eval: true\n",
        "try:\n",
        "    df = pd.read_sql(sql,cnx)\n",
        "    df\n",
        "except Exception as e:\n",
        "    message = str(e)\n",
        "    print(f\"An error occurred:\\n\\n{message}\\n\\nIgnoring and moving on.\")\n",
        "    df = pd.DataFrame()\n",
        "df"
      ],
      "id": "9f9972bf",
      "execution_count": null,
      "outputs": []
    },
    {
      "cell_type": "markdown",
      "metadata": {},
      "source": [
        "## 2\n",
        "2. **Find upcoming events for a given location.**\n",
        "\n",
        "   * $\\pi_{event\\_name, date}(\\sigma_{location\\_id = X}(Event-Location))$\n"
      ],
      "id": "ebd990c6"
    },
    {
      "cell_type": "code",
      "metadata": {},
      "source": [
        "sql = f\"\"\"\n",
        "    SELECT \n",
        "     b.event_name, \n",
        "     a.date_occurred\n",
        "    FROM \n",
        "     event_location a\n",
        "    JOIN events b ON a.event_id = b.event_id\n",
        "    WHERE a.location_id = 5 AND a.date_occurred > CURDATE()\n",
        "    ;\n",
        "\"\"\""
      ],
      "id": "d06992f7",
      "execution_count": null,
      "outputs": []
    },
    {
      "cell_type": "code",
      "metadata": {},
      "source": [
        "#| echo: false\n",
        "#| eval: true\n",
        "try:\n",
        "    df = pd.read_sql(sql,cnx)\n",
        "    df\n",
        "except Exception as e:\n",
        "    message = str(e)\n",
        "    print(f\"An error occurred:\\n\\n{message}\\n\\nIgnoring and moving on.\")\n",
        "    df = pd.DataFrame()\n",
        "df"
      ],
      "id": "555abce6",
      "execution_count": null,
      "outputs": []
    },
    {
      "cell_type": "markdown",
      "metadata": {},
      "source": [
        "## 3\n",
        "3. **Identify objects discovered by a specific observer.**\n",
        "\n",
        "   * $\\pi_{object\\_name, first\\_name,last\\_name}(\\sigma_{observer\\_id = X}(Observer-Object))$"
      ],
      "id": "c5c0221e"
    },
    {
      "cell_type": "code",
      "metadata": {},
      "source": [
        "sql = f\"\"\"\n",
        "    SELECT \n",
        "     c.first_name,\n",
        "     c.last_name,\n",
        "     b.object_name\n",
        "    FROM \n",
        "     observer_object a\n",
        "    INNER JOIN objects b ON a.object_id = b.object_id\n",
        "    INNER JOIN observers c on a.observer_id = c.observer_id\n",
        "    WHERE a.observer_id = 8\n",
        "    ;\n",
        "\"\"\""
      ],
      "id": "8fe2cead",
      "execution_count": null,
      "outputs": []
    },
    {
      "cell_type": "code",
      "metadata": {},
      "source": [
        "#| echo: false\n",
        "#| eval: true\n",
        "try:\n",
        "    df = pd.read_sql(sql,cnx)\n",
        "    df\n",
        "except Exception as e:\n",
        "    message = str(e)\n",
        "    print(f\"An error occurred:\\n\\n{message}\\n\\nIgnoring and moving on.\")\n",
        "    df = pd.DataFrame()\n",
        "df"
      ],
      "id": "68465436",
      "execution_count": null,
      "outputs": []
    },
    {
      "cell_type": "markdown",
      "metadata": {},
      "source": [
        "## 4\n",
        "4. **List all events related to a specific object.**\n",
        "\n",
        "   * $\\pi_{event\\_name}(\\sigma_{object\\_id = X}(Object-Event))$\n"
      ],
      "id": "872ed606"
    },
    {
      "cell_type": "code",
      "metadata": {},
      "source": [
        "sql = f\"\"\"\n",
        "    SELECT \n",
        "        b.event_name\n",
        "    FROM\n",
        "        object_event a\n",
        "        INNER JOIN events b ON (a.event_id = b.event_id)\n",
        "    WHERE a.object_id = 5;\n",
        "    ;\n",
        "\"\"\""
      ],
      "id": "75e2d210",
      "execution_count": null,
      "outputs": []
    },
    {
      "cell_type": "code",
      "metadata": {},
      "source": [
        "#| echo: false\n",
        "#| eval: true\n",
        "try:\n",
        "    df = pd.read_sql(sql,cnx)\n",
        "    df\n",
        "except Exception as e:\n",
        "    message = str(e)\n",
        "    print(f\"An error occurred:\\n\\n{message}\\n\\nIgnoring and moving on.\")\n",
        "    df = pd.DataFrame()\n",
        "df"
      ],
      "id": "64242d37",
      "execution_count": null,
      "outputs": []
    },
    {
      "cell_type": "markdown",
      "metadata": {},
      "source": [
        "## 5\n",
        "5. **Find the objects with specific characteristics (e.g., galaxies, stars).**\n",
        "\n",
        "   * $\\pi_{object\\_name}(\\sigma_{object\\_type = \"galaxy\" \\land \"planet\")}(Object)$"
      ],
      "id": "7e9eacdb"
    },
    {
      "cell_type": "code",
      "metadata": {},
      "source": [
        "sql = f\"\"\"\n",
        "    SELECT \n",
        "        b.object_name\n",
        "    FROM\n",
        "        objects b\n",
        "    WHERE b.type = 'galaxy' OR b.type = 'planet'\n",
        "    ;\n",
        "\"\"\""
      ],
      "id": "7d7b0054",
      "execution_count": null,
      "outputs": []
    },
    {
      "cell_type": "code",
      "metadata": {},
      "source": [
        "#| echo: false\n",
        "#| eval: true\n",
        "try:\n",
        "    df = pd.read_sql(sql,cnx)\n",
        "    df\n",
        "except Exception as e:\n",
        "    message = str(e)\n",
        "    print(f\"An error occurred:\\n\\n{message}\\n\\nIgnoring and moving on.\")\n",
        "    df = pd.DataFrame()\n",
        "df"
      ],
      "id": "c58a95c8",
      "execution_count": null,
      "outputs": []
    },
    {
      "cell_type": "markdown",
      "metadata": {},
      "source": [
        "## 6\n",
        "6. **Retrieve the objects observed from a given quadrant.**\n",
        "\n",
        "   * $\\pi_{object\\_name}(\\sigma_{quadrant = \"NW\"}(EarthLocation \\Join Object-Location \\Join Object))$"
      ],
      "id": "c7fdc0cc"
    },
    {
      "cell_type": "code",
      "metadata": {},
      "source": [
        "sql = f\"\"\"\n",
        "    SELECT \n",
        "        c.object_name\n",
        "    FROM\n",
        "        earth_locations a\n",
        "        INNER JOIN object_location b ON (a.earth_location_id = b.location_id)\n",
        "        INNER JOIN objects c ON (b.object_id = c.object_id)\n",
        "    WHERE a.quadrant = 'NW';\n",
        "\"\"\""
      ],
      "id": "d3de1e3c",
      "execution_count": null,
      "outputs": []
    },
    {
      "cell_type": "code",
      "metadata": {},
      "source": [
        "#| echo: false\n",
        "#| eval: true\n",
        "try:\n",
        "    df = pd.read_sql(sql,cnx)\n",
        "    df\n",
        "except Exception as e:\n",
        "    message = str(e)\n",
        "    print(f\"An error occurred:\\n\\n{message}\\n\\nIgnoring and moving on.\")\n",
        "    df = pd.DataFrame()\n",
        "df"
      ],
      "id": "987deeab",
      "execution_count": null,
      "outputs": []
    },
    {
      "cell_type": "markdown",
      "metadata": {},
      "source": [
        "## 7\n",
        "7. **Find events on a specific date.**\n",
        "\n",
        "   * $\\pi_{event\\_name}(\\sigma_{date = \"YYYY-MM-DD\"}(Event))$"
      ],
      "id": "2d53844c"
    },
    {
      "cell_type": "code",
      "metadata": {},
      "source": [
        "sql = f\"\"\"\n",
        "    SELECT \n",
        "        e.event_name\n",
        "    FROM\n",
        "        events e\n",
        "    WHERE e.date_occurred = '2024-04-20';\n",
        "    ;\n",
        "\"\"\""
      ],
      "id": "1a4c0655",
      "execution_count": null,
      "outputs": []
    },
    {
      "cell_type": "code",
      "metadata": {},
      "source": [
        "#| echo: false\n",
        "#| eval: true\n",
        "try:\n",
        "    df = pd.read_sql(sql,cnx)\n",
        "    df\n",
        "except Exception as e:\n",
        "    message = str(e)\n",
        "    print(f\"An error occurred:\\n\\n{message}\\n\\nIgnoring and moving on.\")\n",
        "    df = pd.DataFrame()\n",
        "df"
      ],
      "id": "d191403f",
      "execution_count": null,
      "outputs": []
    },
    {
      "cell_type": "markdown",
      "metadata": {},
      "source": [
        "## 8\n",
        "8. **Get details about space locations.**\n",
        "\n",
        "   * $\\pi_{ra, de}(\\sigma_{space\\_location\\_id = X}(SpaceLocation))$"
      ],
      "id": "23d88021"
    },
    {
      "cell_type": "code",
      "metadata": {},
      "source": [
        "sql = f\"\"\"\n",
        "    SELECT \n",
        "        a.description,\n",
        "        a.ra,\n",
        "        a.de\n",
        "    FROM\n",
        "        space_locations a\n",
        "    WHERE a.space_location_id = 1 OR a.space_location_id = 2 OR a.space_location_id = 7;\n",
        "\"\"\""
      ],
      "id": "25d320bf",
      "execution_count": null,
      "outputs": []
    },
    {
      "cell_type": "code",
      "metadata": {},
      "source": [
        "#| echo: false\n",
        "#| eval: true\n",
        "try:\n",
        "    df = pd.read_sql(sql,cnx)\n",
        "    df\n",
        "except Exception as e:\n",
        "    message = str(e)\n",
        "    print(f\"An error occurred:\\n\\n{message}\\n\\nIgnoring and moving on.\")\n",
        "    df = pd.DataFrame()\n",
        "df"
      ],
      "id": "6880ef40",
      "execution_count": null,
      "outputs": []
    },
    {
      "cell_type": "markdown",
      "metadata": {},
      "source": [
        "## 9\n",
        "9. **List objects linked to other objects.**\n",
        "\n",
        "   * $\\pi_{object\\_name}(\\sigma_{related\\_object\\_id = X}(Object-Object))$\n"
      ],
      "id": "dc391569"
    },
    {
      "cell_type": "code",
      "metadata": {},
      "source": [
        "sql = f\"\"\"\n",
        "    SELECT \n",
        "        b.object_name\n",
        "    FROM\n",
        "        object_object a\n",
        "        INNER JOIN objects b ON (a.object2_id = b.object_id)\n",
        "    WHERE a.object1_id = 3;\n",
        "    ;\n",
        "\"\"\""
      ],
      "id": "072f40db",
      "execution_count": null,
      "outputs": []
    },
    {
      "cell_type": "code",
      "metadata": {},
      "source": [
        "#| echo: false\n",
        "#| eval: true\n",
        "try:\n",
        "    df = pd.read_sql(sql,cnx)\n",
        "    df\n",
        "except Exception as e:\n",
        "    message = str(e)\n",
        "    print(f\"An error occurred:\\n\\n{message}\\n\\nIgnoring and moving on.\")\n",
        "    df = pd.DataFrame()\n",
        "df"
      ],
      "id": "7b7fb21f",
      "execution_count": null,
      "outputs": []
    },
    {
      "cell_type": "markdown",
      "metadata": {},
      "source": [
        "## 10\n",
        "10. **Find the observers who discovered a specific object.**\n",
        "\n",
        "    * $\\pi_{first\\_name, last_name}(\\sigma_{object\\_id = X}(Observer-Object))$"
      ],
      "id": "d7172e69"
    },
    {
      "cell_type": "code",
      "metadata": {},
      "source": [
        "sql = f\"\"\"\n",
        "   SELECT \n",
        "        d.first_name,\n",
        "        d.last_name\n",
        "    FROM\n",
        "        observer_object a\n",
        "        INNER JOIN observers d ON (a.observer_id = d.observer_id)\n",
        "    WHERE a.object_id = 3;\n",
        "\"\"\""
      ],
      "id": "5286ee21",
      "execution_count": null,
      "outputs": []
    },
    {
      "cell_type": "code",
      "metadata": {},
      "source": [
        "#| echo: false\n",
        "#| eval: true\n",
        "try:\n",
        "    df = pd.read_sql(sql,cnx)\n",
        "    df\n",
        "except Exception as e:\n",
        "    message = str(e)\n",
        "    print(f\"An error occurred:\\n\\n{message}\\n\\nIgnoring and moving on.\")\n",
        "    df = pd.DataFrame()\n",
        "df"
      ],
      "id": "fafe5e41",
      "execution_count": null,
      "outputs": []
    },
    {
      "cell_type": "markdown",
      "metadata": {},
      "source": [
        "## 11\n",
        "11. **Plan a stargazing session by retrieving the objects visible from a specific location.**\n",
        "\n",
        "    * $\\pi_{object\\_name}(\\sigma_{space\\_location\\_id = X}(Object-Location \\Join SpaceLocation))$"
      ],
      "id": "4b18ed5b"
    },
    {
      "cell_type": "code",
      "metadata": {},
      "source": [
        "sql = f\"\"\"\n",
        "   SELECT \n",
        "        c.object_name\n",
        "    FROM\n",
        "        object_location a\n",
        "        INNER JOIN objects c ON (a.object_id = c.object_id)\n",
        "    WHERE a.location_id = 2;\n",
        "\"\"\""
      ],
      "id": "da6238a5",
      "execution_count": null,
      "outputs": []
    },
    {
      "cell_type": "code",
      "metadata": {},
      "source": [
        "#| echo: false\n",
        "#| eval: true\n",
        "try:\n",
        "    df = pd.read_sql(sql,cnx)\n",
        "    df\n",
        "except Exception as e:\n",
        "    message = str(e)\n",
        "    print(f\"An error occurred:\\n\\n{message}\\n\\nIgnoring and moving on.\")\n",
        "    df = pd.DataFrame()\n",
        "df"
      ],
      "id": "b1301f59",
      "execution_count": null,
      "outputs": []
    },
    {
      "cell_type": "markdown",
      "metadata": {},
      "source": [
        "## 12\n",
        "12. **Identify the best area to observe a particular event, considering location's time zone (UTC).**\n",
        "\n",
        "    * $\\pi_{event\\_name, date, description, local\\_time}(\\sigma_{event\\_id = X}(Event-Location \\Join EarthLocation))$"
      ],
      "id": "efa7443b"
    },
    {
      "cell_type": "code",
      "metadata": {},
      "source": [
        "sql = f\"\"\"\n",
        "    SELECT \n",
        "        b.event_name,\n",
        "        b.date_occurred,\n",
        "        c.location_name,\n",
        "        c.local_time\n",
        "    FROM\n",
        "        event_location a\n",
        "        INNER JOIN events b ON (a.event_id = b.event_id)\n",
        "        INNER JOIN earth_locations c ON (a.location_id = c.earth_location_id)\n",
        "    WHERE a.event_id = 2 AND c.local_time > '07:00:00' AND c.local_time < '23:00:00'  ;\n",
        "\"\"\""
      ],
      "id": "0757346a",
      "execution_count": null,
      "outputs": []
    },
    {
      "cell_type": "code",
      "metadata": {},
      "source": [
        "#| echo: false\n",
        "#| eval: true\n",
        "try:\n",
        "    df = pd.read_sql(sql,cnx)\n",
        "    df\n",
        "except Exception as e:\n",
        "    message = str(e)\n",
        "    print(f\"An error occurred:\\n\\n{message}\\n\\nIgnoring and moving on.\")\n",
        "    df = pd.DataFrame()\n",
        "df"
      ],
      "id": "918d8648",
      "execution_count": null,
      "outputs": []
    },
    {
      "cell_type": "markdown",
      "metadata": {},
      "source": [
        "## 13\n",
        "13. **Explore details about the objects discovered by a specific observer, including their descriptions.**\n",
        "\n",
        "    * $\\pi_{object\\_name, description}(\\sigma_{observer\\_id = X}(Observer-Object \\Join Object))$"
      ],
      "id": "9f6611e6"
    },
    {
      "cell_type": "code",
      "metadata": {},
      "source": [
        "sql = f\"\"\"\n",
        "    SELECT \n",
        "        d.first_name,\n",
        "        d.last_name,\n",
        "        b.object_name,\n",
        "        b.type,\n",
        "        b.description\n",
        "    FROM\n",
        "        observer_object a\n",
        "        INNER JOIN observers d ON (a.observer_id = d.observer_id)\n",
        "        INNER JOIN objects b ON (a.object_id = b.object_id)\n",
        "    WHERE a.observer_id = 3;\n",
        "    ;\n",
        "\"\"\""
      ],
      "id": "9d8af288",
      "execution_count": null,
      "outputs": []
    },
    {
      "cell_type": "code",
      "metadata": {},
      "source": [
        "#| echo: false\n",
        "#| eval: true\n",
        "try:\n",
        "    df = pd.read_sql(sql,cnx)\n",
        "    df\n",
        "except Exception as e:\n",
        "    message = str(e)\n",
        "    print(f\"An error occurred:\\n\\n{message}\\n\\nIgnoring and moving on.\")\n",
        "    df = pd.DataFrame()\n",
        "df"
      ],
      "id": "fda0f1e2",
      "execution_count": null,
      "outputs": []
    },
    {
      "cell_type": "markdown",
      "metadata": {},
      "source": [
        "## 14\n",
        "14. **Find information about upcoming meteor showers, specifically where and when they can be observed.**\n",
        "\n",
        "    * $\\pi_{event\\_name, date}(\\sigma_{event\\_name = \"Meteor Shower\"}(Event-Location))$"
      ],
      "id": "5ff185cf"
    },
    {
      "cell_type": "code",
      "metadata": {},
      "source": [
        "sql = f\"\"\"\n",
        "    SELECT \n",
        "        b.event_name,\n",
        "        c.location_name,\n",
        "        b.date_occurred,\n",
        "        c.local_time\n",
        "    FROM\n",
        "        events b\n",
        "        INNER JOIN event_location a ON (b.event_id = a.event_id)\n",
        "        INNER JOIN earth_locations c ON (a.location_id = c.earth_location_id)\n",
        "    WHERE b.event_name = 'meteor shower'\n",
        "    ;\n",
        "\"\"\""
      ],
      "id": "d5e289e9",
      "execution_count": null,
      "outputs": []
    },
    {
      "cell_type": "code",
      "metadata": {},
      "source": [
        "#| echo: false\n",
        "#| eval: true\n",
        "try:\n",
        "    df = pd.read_sql(sql,cnx)\n",
        "    df\n",
        "except Exception as e:\n",
        "    message = str(e)\n",
        "    print(f\"An error occurred:\\n\\n{message}\\n\\nIgnoring and moving on.\")\n",
        "    df = pd.DataFrame()\n",
        "df"
      ],
      "id": "c0ba8b03",
      "execution_count": null,
      "outputs": []
    },
    {
      "cell_type": "markdown",
      "metadata": {},
      "source": [
        "## 15\n",
        "15. **Locate objects of a particular type (e.g., planets) visible from a specific quadrant.**\n",
        "\n",
        "    * $\\pi_{object\\_name}(\\sigma_{object\\_type = \"Planet\" \\land quadrant = \"NW\"}(Object \\Join Object-Location \\Join EarthLocation))$"
      ],
      "id": "9d034827"
    },
    {
      "cell_type": "code",
      "metadata": {},
      "source": [
        "sql = f\"\"\"\n",
        "     SELECT \n",
        "        c.object_name\n",
        "    FROM\n",
        "        earth_locations a\n",
        "        INNER JOIN object_location b ON (a.earth_location_id = b.location_id)\n",
        "        INNER JOIN objects c ON (b.object_id = c.object_id)\n",
        "    WHERE c.type = 'planet' AND a.quadrant = 'SW'\n",
        "    ;\n",
        "\"\"\""
      ],
      "id": "02a96389",
      "execution_count": null,
      "outputs": []
    },
    {
      "cell_type": "code",
      "metadata": {},
      "source": [
        "#| echo: false\n",
        "#| eval: true\n",
        "try:\n",
        "    df = pd.read_sql(sql,cnx)\n",
        "    df\n",
        "except Exception as e:\n",
        "    message = str(e)\n",
        "    print(f\"An error occurred:\\n\\n{message}\\n\\nIgnoring and moving on.\")\n",
        "    df = pd.DataFrame()\n",
        "df"
      ],
      "id": "1f483014",
      "execution_count": null,
      "outputs": []
    },
    {
      "cell_type": "markdown",
      "metadata": {},
      "source": [
        "## 16\n",
        "16. **Discover the events scheduled for a specific date and their locations.**\n",
        "\n",
        "    * $\\pi_{event\\_name, location\\_name}(\\sigma_{date = \"YYYY-MM-DD\"}(Event-Location))$"
      ],
      "id": "46c3c8be"
    },
    {
      "cell_type": "code",
      "metadata": {},
      "source": [
        "sql = f\"\"\"\n",
        "   SELECT \n",
        "        b.event_name,\n",
        "        c.location_name\n",
        "    FROM\n",
        "        event_location a\n",
        "        INNER JOIN events b ON (a.event_id = b.event_id)\n",
        "        INNER JOIN earth_locations c ON (a.location_id = c.earth_location_id)\n",
        "    WHERE a.date_occurred = '2023-10-20';\n",
        "\"\"\""
      ],
      "id": "57632d6e",
      "execution_count": null,
      "outputs": []
    },
    {
      "cell_type": "code",
      "metadata": {},
      "source": [
        "#| echo: false\n",
        "#| eval: true\n",
        "try:\n",
        "    df = pd.read_sql(sql,cnx)\n",
        "    df\n",
        "except Exception as e:\n",
        "    message = str(e)\n",
        "    print(f\"An error occurred:\\n\\n{message}\\n\\nIgnoring and moving on.\")\n",
        "    df = pd.DataFrame()\n",
        "df"
      ],
      "id": "679cd9d8",
      "execution_count": null,
      "outputs": []
    },
    {
      "cell_type": "markdown",
      "metadata": {},
      "source": [
        "## 17\n",
        "17. **Determine the objects with the highest ra**\n",
        "\n",
        "    * $\\pi_{object\\_name, ra}(\\sigma_{date = \"YYYY-MM-DD\"}(Object-Location \\Join SpaceLocation))$"
      ],
      "id": "9faa0782"
    },
    {
      "cell_type": "code",
      "metadata": {},
      "source": [
        "sql = f\"\"\"\n",
        "    SELECT \n",
        "        c.object_name,\n",
        "        b.ra\n",
        "    FROM\n",
        "        object_location a\n",
        "        INNER JOIN objects c ON (a.object_id = c.object_id)\n",
        "        INNER JOIN space_locations b ON (a.location_id = b.space_location_id)\n",
        "    WHERE a.date_occurred = '2024-03-05'\n",
        "    ORDER BY b.ra DESC\n",
        "    LIMIT 1\n",
        "    ;\n",
        "\"\"\""
      ],
      "id": "63a9a60b",
      "execution_count": null,
      "outputs": []
    },
    {
      "cell_type": "code",
      "metadata": {},
      "source": [
        "#| echo: false\n",
        "#| eval: true\n",
        "try:\n",
        "    df = pd.read_sql(sql,cnx)\n",
        "    df\n",
        "except Exception as e:\n",
        "    message = str(e)\n",
        "    print(f\"An error occurred:\\n\\n{message}\\n\\nIgnoring and moving on.\")\n",
        "    df = pd.DataFrame()\n",
        "df"
      ],
      "id": "6ee0c9b8",
      "execution_count": null,
      "outputs": []
    },
    {
      "cell_type": "markdown",
      "metadata": {},
      "source": [
        "## 18\n",
        "18. **Explore details about a specific space location, such as RA and Dec.**\n",
        "\n",
        "    * $\\pi_{RA, Dec}(\\sigma_{location\\_id = X}(EarthLocation \\Join Object-Location \\Join SpaceLocation))$"
      ],
      "id": "c43b76ab"
    },
    {
      "cell_type": "code",
      "metadata": {},
      "source": [
        "sql = f\"\"\"\n",
        "    SELECT\n",
        "        b.description, \n",
        "        b.ra,\n",
        "        b.de\n",
        "    FROM\n",
        "        earth_locations a\n",
        "        INNER JOIN object_location c ON (a.earth_location_id = c.location_id)\n",
        "        INNER JOIN space_locations b ON (c.location_id = b.space_location_id)\n",
        "    WHERE a.earth_location_id = 2\n",
        "    ;\n",
        "\"\"\""
      ],
      "id": "d54424f1",
      "execution_count": null,
      "outputs": []
    },
    {
      "cell_type": "code",
      "metadata": {},
      "source": [
        "#| echo: false\n",
        "#| eval: true\n",
        "try:\n",
        "    df = pd.read_sql(sql,cnx)\n",
        "    df\n",
        "except Exception as e:\n",
        "    message = str(e)\n",
        "    print(f\"An error occurred:\\n\\n{message}\\n\\nIgnoring and moving on.\")\n",
        "    df = pd.DataFrame()\n",
        "df"
      ],
      "id": "20394021",
      "execution_count": null,
      "outputs": []
    },
    {
      "cell_type": "markdown",
      "metadata": {},
      "source": [
        "## 19\n",
        "19. **Find events with unique characteristics (e.g., total solar eclipses) and their dates.**\n",
        "\n",
        "    * $\\pi_{event\\_name, date}(\\sigma_{event\\_name = \"Total Solar Eclipse\"}(Event-Location))$"
      ],
      "id": "4c9b5a59"
    },
    {
      "cell_type": "code",
      "metadata": {},
      "source": [
        "sql = f\"\"\"\n",
        "    SELECT \n",
        "        c.event_name,\n",
        "        b.date_occurred\n",
        "    FROM\n",
        "        events c\n",
        "        INNER JOIN event_location b ON(c.event_id = b.event_id)\n",
        "        INNER JOIN earth_locations a ON (b.location_id = a.earth_location_id)\n",
        "    WHERE c.event_name = 'super blue moon';\n",
        "\"\"\""
      ],
      "id": "3e690269",
      "execution_count": null,
      "outputs": []
    },
    {
      "cell_type": "code",
      "metadata": {},
      "source": [
        "#| echo: false\n",
        "#| eval: true\n",
        "try:\n",
        "    df = pd.read_sql(sql,cnx)\n",
        "    df\n",
        "except Exception as e:\n",
        "    message = str(e)\n",
        "    print(f\"An error occurred:\\n\\n{message}\\n\\nIgnoring and moving on.\")\n",
        "    df = pd.DataFrame()\n",
        "df"
      ],
      "id": "ae5cc2cf",
      "execution_count": null,
      "outputs": []
    },
    {
      "cell_type": "markdown",
      "metadata": {},
      "source": [
        "## 20\n",
        "20. **Discover objects with unusual relationships (e.g., moons of specific planets).**\n",
        "\n",
        "    * $\\pi_{object\\_name, related\\_object\\_id}(\\sigma_{related\\_object\\_id = X}(Object-Object))$"
      ],
      "id": "e97f76fe"
    },
    {
      "cell_type": "code",
      "metadata": {},
      "source": [
        "sql = f\"\"\"\n",
        "    SELECT \n",
        "        a.object_name,\n",
        "        b.object2_id\n",
        "    FROM\n",
        "        objects a\n",
        "        INNER JOIN object_object b ON a.object_id = b.object1_id\n",
        "    WHERE b.object2_id = 8\n",
        "    ;\n",
        "\"\"\""
      ],
      "id": "5b7cac47",
      "execution_count": null,
      "outputs": []
    },
    {
      "cell_type": "code",
      "metadata": {},
      "source": [
        "#| echo: false\n",
        "#| eval: true\n",
        "try:\n",
        "    df = pd.read_sql(sql,cnx)\n",
        "    df\n",
        "except Exception as e:\n",
        "    message = str(e)\n",
        "    print(f\"An error occurred:\\n\\n{message}\\n\\nIgnoring and moving on.\")\n",
        "    df = pd.DataFrame()\n",
        "df"
      ],
      "id": "46c09928",
      "execution_count": null,
      "outputs": []
    },
    {
      "cell_type": "markdown",
      "metadata": {},
      "source": [
        ":::\n",
        "\n",
        "\n",
        "### API\n",
        "::: {.panel-tabset}\n",
        "\n",
        "## Astronomy API\n",
        "* Our API was made in the astronomy.py file using flask\n",
        "* Our client.py defines functions to easily utilize our endpoints for basic tasks involving the API\n",
        "\n",
        "##### Endpoints\n",
        "\n",
        "**Observers**\n",
        "\n",
        "1. get all observers\n",
        "    i) query parameters: first_name, last_name, sort_by, order_by, per_page\n",
        "\n",
        "2. get observer(id)\n",
        "\n",
        "3. observer add(id, first_name, last_name)\n",
        "\n",
        "4. remove observer(id)\n",
        "\n",
        "5. update observer(id, attribute, value)\n",
        "\n",
        "**Events**\n",
        "\n",
        "6. events get all\n",
        "    i) query parameters: name, date, duration, frequency, sort_by, order_by, per_page\n",
        "\n",
        "7. get event(id)\n",
        "\n",
        "8. events add\n",
        "\n",
        "9. events remove(id)\n",
        "\n",
        "10. update events(id, attribute, value)\n",
        "\n",
        "**Objects**\n",
        "\n",
        "11. get objects\n",
        "    i) query parameters: name, type, sort_by, order_by, per_page\n",
        "\n",
        "12. get object(id)\n",
        "\n",
        "13. objects add\n",
        "\n",
        "14. objects remove(id)\n",
        "\n",
        "15. update objects(id, attribute, value)\n",
        "\n",
        "**Earth Locations**\n",
        "\n",
        "16. get earth_locations\n",
        "    i) query parameters: quad, lat, long, timezone, time, sort_by, order_by, per_page\n",
        "\n",
        "17. get earth_locations(id)\n",
        "\n",
        "18. add earth_locations\n",
        "\n",
        "19. remove earth_locations(id)\n",
        "\n",
        "20. update earth_locations(id, attribute, value)\n",
        "\n",
        "**Space Locations**\n",
        "\n",
        "21. get space_locations\n",
        "    i) query parameters: ra, de, sort_by, order_by, per_page\n",
        "\n",
        "22. get space_locations(id)\n",
        "\n",
        "23. add space_locations\n",
        "\n",
        "24. remove space_locations(id)\n",
        "\n",
        "25. update space_locations(id, attribute, value)\n",
        "\n",
        "## API Access & Security\n",
        "\n",
        "* We wanted to ensure a level of security by having a mechanism to secure access\n",
        "i) Password:\n"
      ],
      "id": "48963b4e"
    },
    {
      "cell_type": "code",
      "metadata": {},
      "source": [
        "header = {'Authorization' :'Bearer super-secret'}"
      ],
      "id": "217ca0b0",
      "execution_count": null,
      "outputs": []
    },
    {
      "cell_type": "markdown",
      "metadata": {},
      "source": [
        "* To run astronomy_api.py: \n",
        "i) flask -A astronomy_api.py run \n",
        "## How to Use\n",
        "\n",
        "1. Basic API Request:"
      ],
      "id": "0e9316ff"
    },
    {
      "cell_type": "code",
      "metadata": {},
      "source": [
        "response = requests.get('http://localhost:5000/events',headers=header)"
      ],
      "id": "a6185582",
      "execution_count": null,
      "outputs": []
    },
    {
      "cell_type": "markdown",
      "metadata": {},
      "source": [
        "Here are the templates for the URL:\n",
        "\n",
        "* 'http://localhost:5000/{entity}'\n",
        "* 'http://localhost:5000/{entity}/{id}'\n",
        "* 'http://localhost:5000/{entity}/add'\n",
        "* 'http://localhost:5000/{entity}/remove/{id}'\n",
        "\n",
        "and then instead of using get, depending on the task you use:\n",
        "* requests.post to add a row\n",
        "* requests.delete to delete a row\n",
        "\n",
        "2. store parameters in a dictionary if necessary:"
      ],
      "id": "f838fd9c"
    },
    {
      "cell_type": "code",
      "metadata": {},
      "source": [
        "new_data = {\n",
        " \"event_id\" : 10,\n",
        " \"event_name\" : 'blue moon',\n",
        " \"date_occurred\" : '2024-12-14',\n",
        " \"duration\" : 9.0,\n",
        " \"frequency\" : 2.0\n",
        "}\n",
        "\n",
        "response = requests.post('http://localhost:5000/events/add', json=new_data, headers=header)"
      ],
      "id": "f9dcfa2d",
      "execution_count": null,
      "outputs": []
    },
    {
      "cell_type": "markdown",
      "metadata": {},
      "source": [
        "2. we have to store the response"
      ],
      "id": "7be008dd"
    },
    {
      "cell_type": "code",
      "metadata": {},
      "source": [
        "data = response.json()"
      ],
      "id": "d9314108",
      "execution_count": null,
      "outputs": []
    },
    {
      "cell_type": "markdown",
      "metadata": {},
      "source": [
        "5. status code == 200\n",
        "* we want to make sure our request was completed successfully before printing"
      ],
      "id": "f4e0ca01"
    },
    {
      "cell_type": "code",
      "metadata": {},
      "source": [
        "if response.status_code == 200:\n",
        "    print(json.dumps(data, indent=4))\n",
        "else:\n",
        "    print(f\"Request failed with status code {response.status_code}.\")\n",
        "    if data: \n",
        "        print(data)"
      ],
      "id": "2f47f5d2",
      "execution_count": null,
      "outputs": []
    },
    {
      "cell_type": "markdown",
      "metadata": {},
      "source": [
        "**It's telling us that the event with id = 10 already exists!**\n",
        "## get\n",
        "**Let's look at a general get for all the events**"
      ],
      "id": "4aa6963b"
    },
    {
      "cell_type": "code",
      "metadata": {},
      "source": [
        "response = requests.get('http://localhost:5000/events', headers=header)\n",
        "data = response.json()\n",
        "if response.status_code == 200:\n",
        "    print(json.dumps(data, indent=4))\n",
        "else:\n",
        "    print(f\"Request failed with status code {response.status_code}.\")\n",
        "    if data: \n",
        "        print(data)"
      ],
      "id": "f2d4fbcc",
      "execution_count": null,
      "outputs": []
    },
    {
      "cell_type": "markdown",
      "metadata": {},
      "source": [
        "## get(id)\n",
        "**Let's look at a get for a specific observer**\n"
      ],
      "id": "75bb7e7f"
    },
    {
      "cell_type": "code",
      "metadata": {},
      "source": [
        "response = requests.get(f'http://localhost:5000/observer/4',headers=header)\n",
        "data = response.json()\n",
        "if response.status_code == 200:\n",
        "    print(json.dumps(data, indent=4))\n",
        "else:\n",
        "    print(f\"Request failed with status code {response.status_code}.\")\n",
        "    if data: \n",
        "         print(data)"
      ],
      "id": "9c6e5b42",
      "execution_count": null,
      "outputs": []
    },
    {
      "cell_type": "markdown",
      "metadata": {},
      "source": [
        "## add\n",
        "**Let's look at adding an object"
      ],
      "id": "f2c86665"
    },
    {
      "cell_type": "code",
      "metadata": {},
      "source": [
        "new_data = {\n",
        "    \"object_id\": 12,\n",
        "    \"object_name\": 'Uranus',\n",
        "    \"type\": 'planet',\n",
        "    \"description\": 'Its a planet'\n",
        "}\n",
        "response = requests.post('http://localhost:5000/objects/add', json=new_data, headers=header)\n",
        "data = response.json()\n",
        "if response.status_code == 200:\n",
        "    print(json.dumps(data, indent=4))\n",
        "else:\n",
        "    print(f\"Request failed with status code {response.status_code}\")\n",
        "    if data: \n",
        "        print(data)"
      ],
      "id": "55c0da4a",
      "execution_count": null,
      "outputs": []
    },
    {
      "cell_type": "markdown",
      "metadata": {},
      "source": [
        "## remove\n",
        "**Now Let's Remove Uranus"
      ],
      "id": "f7f59da8"
    },
    {
      "cell_type": "code",
      "metadata": {},
      "source": [
        "rm_data = {\"object_id\" : 12}\n",
        "response = requests.delete(f'http://localhost:5000/objects/remove/12', json=rm_data, headers=header)\n",
        "data = response.json()\n",
        "if response.status_code == 200:\n",
        "    print(json.dumps(data, indent=4))\n",
        "else:\n",
        "    print(f\"Request failed with status code {response.status_code}\")\n",
        "    if data: \n",
        "        print(data)"
      ],
      "id": "dfa120c9",
      "execution_count": null,
      "outputs": []
    },
    {
      "cell_type": "markdown",
      "metadata": {},
      "source": [
        "**Proof Uranus has been removed:**"
      ],
      "id": "478d166a"
    },
    {
      "cell_type": "code",
      "metadata": {},
      "source": [
        "#| echo: false\n",
        "#| eval: true\n",
        "sql = f\"\"\"\n",
        "select * from objects;\n",
        "\"\"\"\n",
        "## Add code to list roles table here\n",
        "try:\n",
        "    df = pd.read_sql(sql,cnx)\n",
        "    df\n",
        "except Exception as e:\n",
        "    message = str(e)\n",
        "    print(f\"An error occurred:\\n\\n{message}\\n\\nIgnoring and moving on.\")\n",
        "    df = pd.DataFrame()\n",
        "df"
      ],
      "id": "b87a334c",
      "execution_count": null,
      "outputs": []
    },
    {
      "cell_type": "markdown",
      "metadata": {},
      "source": [
        "## update\n",
        "**Let's update an Earth Location**"
      ],
      "id": "16a73158"
    },
    {
      "cell_type": "code",
      "metadata": {},
      "source": [
        "new_data = {\n",
        "    \"attribute\" : ['location_name'],\n",
        "    \"value\" : ['Paris, Baguette']\n",
        "}\n",
        "response = requests.post(f'http://localhost:5000/earth_locations/edit/9', json=new_data, headers=header)\n",
        "data = response.json()\n",
        "if response.status_code == 200:\n",
        "    print(json.dumps(data, indent=4))\n",
        "else:\n",
        "    print(f\"Request failed with status code {response.status_code}\")\n",
        "    if data: \n",
        "        print(data)"
      ],
      "id": "8c962654",
      "execution_count": null,
      "outputs": []
    },
    {
      "cell_type": "markdown",
      "metadata": {},
      "source": [
        "**Let's put it back to normal**"
      ],
      "id": "8a3a0311"
    },
    {
      "cell_type": "code",
      "metadata": {},
      "source": [
        "new_data = {\n",
        "    \"attribute\" : ['location_name'],\n",
        "    \"value\" : ['Paris, France']\n",
        "}\n",
        "response = requests.post(f'http://localhost:5000/earth_locations/edit/9', json=new_data, headers=header)\n",
        "data = response.json()\n",
        "if response.status_code == 200:\n",
        "    print(json.dumps(data, indent=4))\n",
        "else:\n",
        "    print(f\"Request failed with status code {response.status_code}\")\n",
        "    if data: \n",
        "        print(data)"
      ],
      "id": "0b82630a",
      "execution_count": null,
      "outputs": []
    },
    {
      "cell_type": "markdown",
      "metadata": {},
      "source": [
        ":::\n",
        "### Reflection\n",
        "\n",
        "<span style=\"color:#a074c1;\">**Astronomy Engine**</span>\n",
        "\n",
        "* Using Astronomy Engine, we will be able to turn any location given in longitude and latitude into both Equatorial coordinates and Altitude Azimuth coordinates, as these will help provide the user with instructions to view celestial objects and events. However, we did not allocate enough time to implement this additional feature to our project. This is something we could look into implementing as our own side project.\n",
        "\n",
        "<span style=\"color:#a074c1;\">**Accurate Data**</span>\n",
        "\n",
        "* Our data individually is all realistic other, however, the relations are not necessarily accurate. We just went table by table to find data. To research the links between each item is much more time intensive. For example, we did not look to see whether y planet can be from x space location and which earth location it can be.\n",
        "\n",
        "<span style=\"color:#a074c1;\">**User Input**</span>\n",
        "\n",
        "* We wanted to include an element of user input where the user could input their location and/or a date and would find upcoming events in their area. However, that was out of scope of the assignment, but it would be cool to look into that on our own. It would require much more data and again the Astronomy Engine to do return useful results.\n",
        "\n",
        "<span style=\"color:#a074c1;\">**General**</span>\n",
        "\n",
        "* Overall, this project was very fun and taught allowed us to thoroughly tie-in all the elements we learned this semester. We enjoyed choosing a concept that both of us were passionate in. It was fun making an API of our own and it taught us both skills that we will definitely be using in the future. APIs are very important to be comfortable if you are going into software development or data science."
      ],
      "id": "6fc079bf"
    }
  ],
  "metadata": {
    "kernelspec": {
      "name": "python3",
      "language": "python",
      "display_name": "Python 3 (ipykernel)"
    }
  },
  "nbformat": 4,
  "nbformat_minor": 5
}